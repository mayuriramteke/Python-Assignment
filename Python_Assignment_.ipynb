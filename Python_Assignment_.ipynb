{
  "nbformat": 4,
  "nbformat_minor": 0,
  "metadata": {
    "colab": {
      "name": "Python Assignment.ipynb",
      "provenance": [],
      "collapsed_sections": []
    },
    "kernelspec": {
      "name": "python3",
      "display_name": "Python 3"
    },
    "language_info": {
      "name": "python"
    }
  },
  "cells": [
    {
      "cell_type": "code",
      "metadata": {
        "colab": {
          "base_uri": "https://localhost:8080/"
        },
        "id": "GPSwXE8vH_uD",
        "outputId": "70fb9448-a885-413b-81a4-4989654e4ca1"
      },
      "source": [
        "#LIST_REMOVE_APPEND\n",
        "\n",
        "list=['SAS','R','PYTHON','SPSS']\n",
        "# list.pop(3)\n",
        "list[3]=\"SPARK\"\n",
        "print(list)"
      ],
      "execution_count": 1,
      "outputs": [
        {
          "output_type": "stream",
          "name": "stdout",
          "text": [
            "['SAS', 'R', 'PYTHON', 'SPARK']\n"
          ]
        }
      ]
    },
    {
      "cell_type": "code",
      "metadata": {
        "colab": {
          "base_uri": "https://localhost:8080/"
        },
        "id": "W6lpnLB0KTxL",
        "outputId": "8def5c09-051d-4c6e-e1b1-81cdbdc46d18"
      },
      "source": [
        "#String to List Conversion\n",
        "str=\"I love Data Science & Python\"\n",
        "list= str.split('&')\n",
        "print(list)"
      ],
      "execution_count": 2,
      "outputs": [
        {
          "output_type": "stream",
          "name": "stdout",
          "text": [
            "['I love Data Science ', ' Python']\n"
          ]
        }
      ]
    },
    {
      "cell_type": "code",
      "metadata": {
        "colab": {
          "base_uri": "https://localhost:8080/"
        },
        "id": "wlA8UM1bNey-",
        "outputId": "53a2eab4-ed77-4894-e631-a6ca307779b8"
      },
      "source": [
        "#List to String Conversion\n",
        "list=['Pythons syntax is easy to learn ' ,' Pythons syntax is very clear']\n",
        "a = list[0]\n",
        "b = list[1]\n",
        "print(f\"{a}&{b}\")"
      ],
      "execution_count": 3,
      "outputs": [
        {
          "output_type": "stream",
          "name": "stdout",
          "text": [
            "Pythons syntax is easy to learn & Pythons syntax is very clear\n"
          ]
        }
      ]
    },
    {
      "cell_type": "code",
      "metadata": {
        "colab": {
          "base_uri": "https://localhost:8080/"
        },
        "id": "TaiLK4YbIFkz",
        "outputId": "c72dc462-d3c6-41ea-8717-d5366446fa36"
      },
      "source": [
        "# Nested List\n",
        "list=[['SAS','R'],['Tableau','SQL'],['Python','Java']]\n",
        "print(list[2][1])"
      ],
      "execution_count": 4,
      "outputs": [
        {
          "output_type": "stream",
          "name": "stdout",
          "text": [
            "Java\n"
          ]
        }
      ]
    },
    {
      "cell_type": "code",
      "metadata": {
        "colab": {
          "base_uri": "https://localhost:8080/"
        },
        "id": "9VLOmrUiLOXP",
        "outputId": "835b9d01-bb39-49eb-c210-3e96f378b84f"
      },
      "source": [
        "#It’s the time to disco\n",
        "t = (\"disco\", 12, 4.5)\n",
        "print(t[0])"
      ],
      "execution_count": 5,
      "outputs": [
        {
          "output_type": "stream",
          "name": "stdout",
          "text": [
            "disco\n"
          ]
        }
      ]
    },
    {
      "cell_type": "code",
      "metadata": {
        "colab": {
          "base_uri": "https://localhost:8080/"
        },
        "id": "N-SSD5PmL8Rs",
        "outputId": "b7982615-11b9-41a6-af7b-39a99c546d7f"
      },
      "source": [
        "#String Palindrome\n",
        "string = input(\"input your text here : \")\n",
        "# input (Marathi) to check\n",
        "if(string == string[:: 1]):\n",
        "   print(\"1\")\n",
        "else:\n",
        "   print(\"0\")\n",
        "   "
      ],
      "execution_count": 6,
      "outputs": [
        {
          "output_type": "stream",
          "name": "stdout",
          "text": [
            "input your text here : Marathi\n",
            "1\n"
          ]
        }
      ]
    },
    {
      "cell_type": "code",
      "metadata": {
        "colab": {
          "base_uri": "https://localhost:8080/"
        },
        "id": "zvT-1QVdPtM0",
        "outputId": "ae33017f-ac0e-44a0-f7c6-64707fd76d0c"
      },
      "source": [
        "#Reverse Code\n",
        "A = [\"The\",\"Words\", \"In\" ,\"Reverse\",\"Order\"]\n",
        "A.reverse()\n",
        "print('Reversed List:', A)\n",
        "#print(B)\n"
      ],
      "execution_count": 7,
      "outputs": [
        {
          "output_type": "stream",
          "name": "stdout",
          "text": [
            "Reversed List: ['Order', 'Reverse', 'In', 'Words', 'The']\n"
          ]
        }
      ]
    },
    {
      "cell_type": "code",
      "metadata": {
        "colab": {
          "base_uri": "https://localhost:8080/",
          "height": 35
        },
        "id": "To_hhV-jYPSw",
        "outputId": "556d6e7f-aa42-46e6-a041-331da90b9289"
      },
      "source": [
        "# String Formatting\n",
        "# 1\n",
        "mystring = ('caloRie ConsuMed').lower()\n",
        "mystring.replace(\" \",\"_\")\n"
      ],
      "execution_count": 8,
      "outputs": [
        {
          "output_type": "execute_result",
          "data": {
            "application/vnd.google.colaboratory.intrinsic+json": {
              "type": "string"
            },
            "text/plain": [
              "'calorie_consumed'"
            ]
          },
          "metadata": {},
          "execution_count": 8
        }
      ]
    },
    {
      "cell_type": "code",
      "metadata": {
        "colab": {
          "base_uri": "https://localhost:8080/",
          "height": 35
        },
        "id": "zwakELud1wrN",
        "outputId": "66be1c4f-2374-4cd0-e89d-ed8772ecf744"
      },
      "source": [
        "# 2\n",
        "mystring='Data Science'\n",
        "mystring.replace(\" \", \"_\")"
      ],
      "execution_count": 9,
      "outputs": [
        {
          "output_type": "execute_result",
          "data": {
            "application/vnd.google.colaboratory.intrinsic+json": {
              "type": "string"
            },
            "text/plain": [
              "'Data_Science'"
            ]
          },
          "metadata": {},
          "execution_count": 9
        }
      ]
    },
    {
      "cell_type": "code",
      "metadata": {
        "colab": {
          "base_uri": "https://localhost:8080/"
        },
        "id": "j9mQArRZ1x3K",
        "outputId": "0c23264c-6adc-4812-f28f-031e2155efae"
      },
      "source": [
        "# 3\n",
        "mystring ='datascience'\n",
        "print(mystring)"
      ],
      "execution_count": 10,
      "outputs": [
        {
          "output_type": "stream",
          "name": "stdout",
          "text": [
            "datascience\n"
          ]
        }
      ]
    }
  ]
}